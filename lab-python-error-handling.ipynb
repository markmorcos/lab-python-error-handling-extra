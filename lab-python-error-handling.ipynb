{
 "cells": [
  {
   "cell_type": "markdown",
   "id": "25d7736c-ba17-4aff-b6bb-66eba20fbf4e",
   "metadata": {},
   "source": [
    "# Lab | Error Handling"
   ]
  },
  {
   "cell_type": "markdown",
   "id": "6f8e446f-16b4-4e21-92e7-9d3d1eb551b6",
   "metadata": {},
   "source": [
    "Objective: Practice how to identify, handle and recover from potential errors in Python code using try-except blocks."
   ]
  },
  {
   "cell_type": "markdown",
   "id": "e253e768-aed8-4791-a800-87add1204afa",
   "metadata": {},
   "source": [
    "## Challenge \n",
    "\n",
    "Paste here your lab *functions* solutions. Apply error handling techniques to each function using try-except blocks. "
   ]
  },
  {
   "cell_type": "markdown",
   "id": "9180ff86-c3fe-4152-a609-081a287fa1af",
   "metadata": {},
   "source": [
    "The try-except block in Python is designed to handle exceptions and provide a fallback mechanism when code encounters errors. By enclosing the code that could potentially throw errors in a try block, followed by specific or general exception handling in the except block, we can gracefully recover from errors and continue program execution.\n",
    "\n",
    "However, there may be cases where an input may not produce an immediate error, but still needs to be addressed. In such situations, it can be useful to explicitly raise an error using the \"raise\" keyword, either to draw attention to the issue or handle it elsewhere in the program.\n",
    "\n",
    "Modify the code to handle possible errors in Python, it is recommended to use `try-except-else-finally` blocks, incorporate the `raise` keyword where necessary, and print meaningful error messages to alert users of any issues that may occur during program execution.\n",
    "\n"
   ]
  },
  {
   "cell_type": "code",
   "execution_count": 59,
   "id": "cc2c441d-9dcf-4817-b097-cf6cbe440846",
   "metadata": {},
   "outputs": [],
   "source": [
    "products = ['apple', 'banana']\n",
    "def initialize_inventory(inventory):\n",
    "    inventory = {}\n",
    "    for product in products:\n",
    "        valid = False\n",
    "        while not valid:\n",
    "            try:\n",
    "                quantity = int(input(f\"Enter quantity for {product}: \"))\n",
    "                if quantity >= 0:\n",
    "                    inventory[product] = quantity\n",
    "                    valid = True\n",
    "                else:\n",
    "                    print(\"Quantity can't be negative.\")\n",
    "            except ValueError:\n",
    "                print(\"Please enter a valid number.\")\n",
    "    return inventory"
   ]
  },
  {
   "cell_type": "code",
   "execution_count": 63,
   "id": "186b98ef-c666-402c-9daa-3241055e3841",
   "metadata": {},
   "outputs": [],
   "source": [
    "def get_customer_orders(inventory):\n",
    "    valid_input = False\n",
    "    while not valid_input:\n",
    "        try:\n",
    "            num_orders = int(input('Enter the number of customer orders: '))\n",
    "            if num_orders >= 0:\n",
    "                valid_input = True\n",
    "            else:\n",
    "                print(\"Number of orders cannot be negative.\")\n",
    "        except ValueError:\n",
    "            print(\"Enter a valid number.\")\n",
    "\n",
    "    orders = set()\n",
    "    for _ in range(num_orders):\n",
    "        valid_product = False\n",
    "        while not valid_product:\n",
    "            product = input('Enter product name: ')\n",
    "            if product in inventory and inventory[product] > 0:\n",
    "                orders.add(product)\n",
    "                valid_product = True\n",
    "            else:\n",
    "                print(f\"{product} is unavailable.\")\n",
    "    return orders"
   ]
  },
  {
   "cell_type": "code",
   "execution_count": 65,
   "id": "a3446ca2-31e8-45ff-911b-f950574ae7ed",
   "metadata": {},
   "outputs": [],
   "source": [
    "def update_inventory(orders, inventory):\n",
    "    for product in orders:\n",
    "        if product in inventory:\n",
    "            inventory[product] -= 1\n",
    "            if inventory[product] == 0:\n",
    "                del inventory[product]\n",
    "    return inventory"
   ]
  },
  {
   "cell_type": "code",
   "execution_count": 67,
   "id": "7773bab6-8c5d-4370-90c0-898f6a779762",
   "metadata": {},
   "outputs": [],
   "source": [
    "def calculate_order_statistics(orders, all_products):\n",
    "    total_count = len(orders)\n",
    "    percentage = (total_count / len(all_products)) * 100\n",
    "    return total_count, percentage"
   ]
  },
  {
   "cell_type": "code",
   "execution_count": 69,
   "id": "ae99fd24-1c07-49f9-8db8-8142fc2580b4",
   "metadata": {},
   "outputs": [],
   "source": [
    "def print_order_statistics(stats):\n",
    "    print(\"Order Statistics:\")\n",
    "    print(f\"Total Products Ordered: {stats[0]}\")\n",
    "    print(f\"Percentage of Products Ordered: {stats[1]:.2f}%\")"
   ]
  },
  {
   "cell_type": "code",
   "execution_count": 71,
   "id": "9be4596f-2832-4131-a219-4ec86659aa76",
   "metadata": {},
   "outputs": [],
   "source": [
    "def print_updated_inventory(inventory):\n",
    "    print(\"Updated Inventory:\")\n",
    "    for item, quantity in inventory.items():\n",
    "        print(f\"{item}: {quantity}\")"
   ]
  },
  {
   "cell_type": "code",
   "execution_count": 73,
   "id": "ea47c83d-10bc-4496-b836-68ff9f65a18d",
   "metadata": {},
   "outputs": [],
   "source": [
    "def calculate_total_price(customer_orders):\n",
    "    total_price = 0\n",
    "    for product in customer_orders:\n",
    "        valid_input = False\n",
    "        while not valid_input:\n",
    "            try:\n",
    "                price = float(input(f\"Enter price for {product}: \"))\n",
    "                if price >= 0:\n",
    "                    total_price += price\n",
    "                    valid_input = True\n",
    "                else:\n",
    "                    print(\"Price must be non-negative.\")\n",
    "            except ValueError:\n",
    "                print(\"Enter a valid number.\")\n",
    "    return total_price"
   ]
  },
  {
   "cell_type": "code",
   "execution_count": 75,
   "id": "200f72b3-e98f-439d-9c8e-a8949d718b1a",
   "metadata": {},
   "outputs": [
    {
     "name": "stdin",
     "output_type": "stream",
     "text": [
      "Enter quantity for apple:  3\n",
      "Enter quantity for banana:  2\n"
     ]
    }
   ],
   "source": [
    "inventory = initialize_inventory(products)"
   ]
  },
  {
   "cell_type": "code",
   "execution_count": 77,
   "id": "5e6e301a-9324-4588-999b-b43d7e36390e",
   "metadata": {},
   "outputs": [
    {
     "name": "stdin",
     "output_type": "stream",
     "text": [
      "Enter the number of customer orders:  1\n",
      "Enter product name:  apple\n"
     ]
    }
   ],
   "source": [
    "customer_orders = get_customer_orders(inventory)"
   ]
  },
  {
   "cell_type": "code",
   "execution_count": 81,
   "id": "e7a19861-4407-46a8-aa1d-a1dfc53b7f04",
   "metadata": {},
   "outputs": [],
   "source": [
    "updated_inventory = update_inventory(customer_orders, inventory)"
   ]
  },
  {
   "cell_type": "code",
   "execution_count": 85,
   "id": "52607b72-34eb-4ec2-a62c-1f237da8940b",
   "metadata": {},
   "outputs": [],
   "source": [
    "order_stats = calculate_order_statistics(customer_orders, products)"
   ]
  },
  {
   "cell_type": "code",
   "execution_count": 89,
   "id": "d6162d0d-aaa8-4af0-a309-9c889e8b13d4",
   "metadata": {},
   "outputs": [
    {
     "name": "stdout",
     "output_type": "stream",
     "text": [
      "Order Statistics:\n",
      "Total Products Ordered: 1\n",
      "Percentage of Products Ordered: 50.00%\n"
     ]
    }
   ],
   "source": [
    "print_order_statistics(order_stats)"
   ]
  },
  {
   "cell_type": "code",
   "execution_count": 91,
   "id": "57a7103e-c657-4b76-a0e8-7e1aa2c311e0",
   "metadata": {},
   "outputs": [
    {
     "name": "stdout",
     "output_type": "stream",
     "text": [
      "Updated Inventory:\n",
      "apple: 2\n",
      "banana: 2\n"
     ]
    }
   ],
   "source": [
    "print_updated_inventory(updated_inventory)"
   ]
  },
  {
   "cell_type": "code",
   "execution_count": 94,
   "id": "d8b1694a-c29e-4d96-9045-031e1155068f",
   "metadata": {},
   "outputs": [
    {
     "name": "stdin",
     "output_type": "stream",
     "text": [
      "Enter price for apple:  10\n"
     ]
    },
    {
     "data": {
      "text/plain": [
       "10.0"
      ]
     },
     "execution_count": 94,
     "metadata": {},
     "output_type": "execute_result"
    }
   ],
   "source": [
    "calculate_total_price(customer_orders)"
   ]
  }
 ],
 "metadata": {
  "kernelspec": {
   "display_name": "Python 3 (ipykernel)",
   "language": "python",
   "name": "python3"
  },
  "language_info": {
   "codemirror_mode": {
    "name": "ipython",
    "version": 3
   },
   "file_extension": ".py",
   "mimetype": "text/x-python",
   "name": "python",
   "nbconvert_exporter": "python",
   "pygments_lexer": "ipython3",
   "version": "3.12.4"
  }
 },
 "nbformat": 4,
 "nbformat_minor": 5
}
